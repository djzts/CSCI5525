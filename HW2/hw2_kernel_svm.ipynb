{
 "cells": [
  {
   "cell_type": "code",
   "execution_count": 83,
   "metadata": {},
   "outputs": [],
   "source": [
    "import numpy as np\n",
    "from numpy import linalg\n",
    "import cvxopt \n",
    "import pandas as pd\n",
    "import matplotlib.pyplot as plt\n",
    "cvxopt.solvers.options['show_progress'] = False\n",
    "             \n",
    "def linear_kernel(x1, x2):\n",
    "    return np.dot(x1, x2)\n",
    "\n",
    "def polynomial_kernel(x, y, p=3):\n",
    "    return (1 + np.dot(x, y)) ** p\n",
    "\n",
    "def gaussian_kernel(x, y, sigma=1):\n",
    "    return np.exp(-linalg.norm(x-y)**2 / (2 * (sigma ** 2)))\n",
    "\n"
   ]
  },
  {
   "cell_type": "code",
   "execution_count": 84,
   "metadata": {},
   "outputs": [
    {
     "data": {
      "text/html": [
       "<div>\n",
       "<style scoped>\n",
       "    .dataframe tbody tr th:only-of-type {\n",
       "        vertical-align: middle;\n",
       "    }\n",
       "\n",
       "    .dataframe tbody tr th {\n",
       "        vertical-align: top;\n",
       "    }\n",
       "\n",
       "    .dataframe thead th {\n",
       "        text-align: right;\n",
       "    }\n",
       "</style>\n",
       "<table border=\"1\" class=\"dataframe\">\n",
       "  <thead>\n",
       "    <tr style=\"text-align: right;\">\n",
       "      <th></th>\n",
       "      <th>0</th>\n",
       "      <th>1</th>\n",
       "      <th>2</th>\n",
       "    </tr>\n",
       "  </thead>\n",
       "  <tbody>\n",
       "    <tr>\n",
       "      <td>0</td>\n",
       "      <td>1.764052</td>\n",
       "      <td>0.400157</td>\n",
       "      <td>-1.0</td>\n",
       "    </tr>\n",
       "    <tr>\n",
       "      <td>1</td>\n",
       "      <td>0.978738</td>\n",
       "      <td>2.240893</td>\n",
       "      <td>-1.0</td>\n",
       "    </tr>\n",
       "    <tr>\n",
       "      <td>2</td>\n",
       "      <td>1.867558</td>\n",
       "      <td>-0.977278</td>\n",
       "      <td>1.0</td>\n",
       "    </tr>\n",
       "    <tr>\n",
       "      <td>3</td>\n",
       "      <td>0.950088</td>\n",
       "      <td>-0.151357</td>\n",
       "      <td>1.0</td>\n",
       "    </tr>\n",
       "    <tr>\n",
       "      <td>4</td>\n",
       "      <td>-0.103219</td>\n",
       "      <td>0.410599</td>\n",
       "      <td>1.0</td>\n",
       "    </tr>\n",
       "  </tbody>\n",
       "</table>\n",
       "</div>"
      ],
      "text/plain": [
       "          0         1    2\n",
       "0  1.764052  0.400157 -1.0\n",
       "1  0.978738  2.240893 -1.0\n",
       "2  1.867558 -0.977278  1.0\n",
       "3  0.950088 -0.151357  1.0\n",
       "4 -0.103219  0.410599  1.0"
      ]
     },
     "execution_count": 84,
     "metadata": {},
     "output_type": "execute_result"
    }
   ],
   "source": [
    "data = pd.read_csv(\"hw2data.csv\",header = None) \n",
    "# Preview the first 5 lines of the loaded data \n",
    "data.head()"
   ]
  },
  {
   "cell_type": "code",
   "execution_count": 93,
   "metadata": {},
   "outputs": [],
   "source": [
    "def get_next_train_valid(X_shuffled, y_shuffled, itr, k):\n",
    "    \"\"\"\n",
    "    - itr value can tell you which fold you pick up for valid and rest go to training\n",
    "    - use 1 fold for validation and all other folds for training\n",
    "    - in next iteration, use a different fold for validation and remaining folds for training\n",
    "        \n",
    "    Basically, here you will determine which fold goes for validation and which ones for training\n",
    "    \"\"\"\n",
    "    X_valid = X_shuffled[itr*len(X_shuffled)//k:(itr+1)*len(X_shuffled)//k,:]\n",
    "    Y_valid = y_shuffled[itr*len(y_shuffled)//k:(itr+1)*len(y_shuffled)//k]\n",
    "    \n",
    "    X_train = np.delete(X_shuffled, np.s_[itr*len(X_shuffled)//k:(itr+1)*len(X_shuffled)//k:1], 0)\n",
    "    Y_train = np.delete(y_shuffled, np.s_[itr*len(y_shuffled)//k:(itr+1)*len(y_shuffled)//k:1], 0)\n",
    "    \n",
    "    \n",
    "    return  X_train, Y_train, X_valid, Y_valid\n",
    "\n",
    "def train(X_train, y_train, C):\n",
    "    table = (np.tile(np.vstack(X_train[:,0]), len(X_train))-X_train[:,0])**2 + (np.tile(np.vstack(X_train[:,1]), len(X_train))-X_train[:,1])**2\n",
    "    P_pre =  np.multiply(np.vstack(y_train),y_train) * np.exp(-1/2*table)\n",
    "    P = cvxopt.matrix(P_pre, tc= 'd')\n",
    "    q = -cvxopt.matrix(np.ones(len(X_train)), tc = 'd')\n",
    "    G = cvxopt.matrix(np.concatenate((np.identity(len(X_train)),-np.identity(len(X_train)))),tc = 'd')\n",
    "    h = cvxopt.matrix(np.concatenate((C*np.ones(len(X_train)),np.zeros(len(X_train)))), tc = 'd')\n",
    "    sol = cvxopt.solvers.qp(P,q,G,h)\n",
    "    lamda = sol['x']\n",
    "    return lamda\n",
    "\n",
    "def predict(X_valid, X_train, y_train, lamda ):\n",
    "    obj = np.zeros(len(X_valid))\n",
    "    table2 = (np.tile(np.vstack(X_valid[:,0]), len(X_train))-X_train[:,0])**2 + (np.tile(np.vstack(X_valid[:,1]), len(X_train))-X_train[:,1])**2\n",
    "    obj =  np.sum(np.exp(-1/2*table2)*np.hstack(lamda)*np.hstack(y_train),axis=1)\n",
    "    return np.sign(obj)\n"
   ]
  },
  {
   "cell_type": "code",
   "execution_count": 94,
   "metadata": {},
   "outputs": [
    {
     "data": {
      "image/png": "[encoded data removed]",
      "text/plain": [
       "<Figure size 432x288 with 1 Axes>"
      ]
     },
     "metadata": {
      "needs_background": "light"
     },
     "output_type": "display_data"
    }
   ],
   "source": [
    "data = pd.read_csv(\"hw2data.csv\", header = None)\n",
    "samples = np.array(data)\n",
    "\n",
    "\n",
    "np.random.shuffle(samples)\n",
    "\n",
    "test_sample = samples[:len(samples)//5]\n",
    "train_sample = samples[len(samples)//5:]\n",
    "\n",
    "\n",
    "X_learn = train_sample[:,:-1]\n",
    "y_learn = train_sample[:,-1]\n",
    "X_test = test_sample[:,:-1]\n",
    "y_test = test_sample[:,-1]\n",
    "plt.scatter(X_learn[:,0],X_learn[:,1],c= y_learn ,cmap='plasma')\n",
    "plt.show()\n",
    "\n"
   ]
  },
  {
   "cell_type": "code",
   "execution_count": 95,
   "metadata": {},
   "outputs": [
    {
     "name": "stdout",
     "output_type": "stream",
     "text": [
      "C = 0,K = 0 's model Done\n",
      "C = 0,K = 1 's model Done\n",
      "C = 0,K = 2 's model Done\n",
      "C = 0,K = 3 's model Done\n",
      "C = 0,K = 4 's model Done\n",
      "C = 0,K = 5 's model Done\n",
      "C = 0,K = 6 's model Done\n",
      "C = 0,K = 7 's model Done\n",
      "C = 0,K = 8 's model Done\n",
      "C = 0,K = 9 's model Done\n",
      "C 0 's predict model Done\n",
      "C = 1,K = 0 's model Done\n",
      "C = 1,K = 1 's model Done\n",
      "C = 1,K = 2 's model Done\n",
      "C = 1,K = 3 's model Done\n",
      "C = 1,K = 4 's model Done\n",
      "C = 1,K = 5 's model Done\n",
      "C = 1,K = 6 's model Done\n",
      "C = 1,K = 7 's model Done\n",
      "C = 1,K = 8 's model Done\n",
      "C = 1,K = 9 's model Done\n",
      "C 1 's predict model Done\n",
      "C = 2,K = 0 's model Done\n",
      "C = 2,K = 1 's model Done\n",
      "C = 2,K = 2 's model Done\n",
      "C = 2,K = 3 's model Done\n",
      "C = 2,K = 4 's model Done\n",
      "C = 2,K = 5 's model Done\n",
      "C = 2,K = 6 's model Done\n",
      "C = 2,K = 7 's model Done\n",
      "C = 2,K = 8 's model Done\n",
      "C = 2,K = 9 's model Done\n",
      "C 2 's predict model Done\n",
      "C = 3,K = 0 's model Done\n",
      "C = 3,K = 1 's model Done\n",
      "C = 3,K = 2 's model Done\n",
      "C = 3,K = 3 's model Done\n",
      "C = 3,K = 4 's model Done\n",
      "C = 3,K = 5 's model Done\n",
      "C = 3,K = 6 's model Done\n",
      "C = 3,K = 7 's model Done\n",
      "C = 3,K = 8 's model Done\n",
      "C = 3,K = 9 's model Done\n",
      "C 3 's predict model Done\n",
      "C = 4,K = 0 's model Done\n",
      "C = 4,K = 1 's model Done\n",
      "C = 4,K = 2 's model Done\n",
      "C = 4,K = 3 's model Done\n",
      "C = 4,K = 4 's model Done\n",
      "C = 4,K = 5 's model Done\n",
      "C = 4,K = 6 's model Done\n",
      "C = 4,K = 7 's model Done\n",
      "C = 4,K = 8 's model Done\n",
      "C = 4,K = 9 's model Done\n",
      "C 4 's predict model Done\n",
      "C = 5,K = 0 's model Done\n",
      "C = 5,K = 1 's model Done\n",
      "C = 5,K = 2 's model Done\n",
      "C = 5,K = 3 's model Done\n",
      "C = 5,K = 4 's model Done\n",
      "C = 5,K = 5 's model Done\n",
      "C = 5,K = 6 's model Done\n",
      "C = 5,K = 7 's model Done\n",
      "C = 5,K = 8 's model Done\n",
      "C = 5,K = 9 's model Done\n",
      "C 5 's predict model Done\n",
      "C = 6,K = 0 's model Done\n",
      "C = 6,K = 1 's model Done\n",
      "C = 6,K = 2 's model Done\n",
      "C = 6,K = 3 's model Done\n",
      "C = 6,K = 4 's model Done\n",
      "C = 6,K = 5 's model Done\n",
      "C = 6,K = 6 's model Done\n",
      "C = 6,K = 7 's model Done\n",
      "C = 6,K = 8 's model Done\n",
      "C = 6,K = 9 's model Done\n",
      "C 6 's predict model Done\n",
      "C = 7,K = 0 's model Done\n",
      "C = 7,K = 1 's model Done\n",
      "C = 7,K = 2 's model Done\n",
      "C = 7,K = 3 's model Done\n",
      "C = 7,K = 4 's model Done\n",
      "C = 7,K = 5 's model Done\n",
      "C = 7,K = 6 's model Done\n",
      "C = 7,K = 7 's model Done\n",
      "C = 7,K = 8 's model Done\n",
      "C = 7,K = 9 's model Done\n",
      "C 7 's predict model Done\n"
     ]
    }
   ],
   "source": [
    "#k fold = 10\n",
    "k = 10\n",
    "\n",
    "C_set =  [0.0001, 0.001, 0.01, 0.1, 1, 10, 100, 1000]\n",
    "\n",
    "# record the accuracy\n",
    "score_valid = np.zeros(k)\n",
    "score_train = np.zeros(k)\n",
    "\n",
    "mean_score_valid =np.zeros(len(C_set))\n",
    "mean_score_train =np.zeros(len(C_set))\n",
    "score_test = np.zeros(len(C_set))\n",
    "W = np.zeros(2)\n",
    "for j in range(len(C_set)):\n",
    "        for i in range(k):\n",
    "            \n",
    "            X_train, y_train, X_valid, y_valid = get_next_train_valid(X_learn, y_learn, i , k)\n",
    "            \n",
    "            W = train(X_train, y_train, C_set[j])\n",
    "            print(\"C = %d,K = %d 's model Done\"% (j,i))\n",
    "            \n",
    "            y_predict_train = predict(X_train, X_train, y_train, W)\n",
    "            y_predict = predict(X_valid, X_train, y_train, W)\n",
    "            y_predict_train = np.reshape(y_predict_train,len(X_train))\n",
    "            y_predict = np.reshape(y_predict,len(X_valid))\n",
    "\n",
    "            score_valid[i] = np.sum(y_valid == y_predict)/len(X_valid)\n",
    "            score_train[i] = np.sum(y_train == y_predict_train)/len(X_train)\n",
    "            \n",
    "        mean_score_valid[j] = np.mean(score_valid)\n",
    "        mean_score_train[j] = np.mean(score_train)\n",
    "        \n",
    "        #train on full training set\n",
    "        W = train(X_learn, y_learn , C_set[j])\n",
    "        print(\"C %d 's predict model Done\"% (j))\n",
    "        y_test_train = predict(X_test, X_learn, y_learn, W)\n",
    "        y_test_train = np.reshape(y_test_train,len(X_test))\n",
    "        score_test[j] = np.sum(y_test_train == y_test)/len(X_test)"
   ]
  },
  {
   "cell_type": "code",
   "execution_count": 96,
   "metadata": {},
   "outputs": [
    {
     "name": "stdout",
     "output_type": "stream",
     "text": [
      "[0.94125  0.94125  0.946875 0.9575   0.97625  0.984375 0.985    0.99    ]\n",
      "[0.94416667 0.94416667 0.95090278 0.96541667 0.98423611 0.98902778\n",
      " 0.99201389 0.99618056]\n",
      "[0.965  0.965  0.9625 0.9675 0.9825 0.9825 0.9875 0.985 ]\n"
     ]
    }
   ],
   "source": [
    "\n",
    "print(mean_score_valid)\n",
    "print(mean_score_train)\n",
    "print(score_test)"
   ]
  },
  {
   "cell_type": "code",
   "execution_count": 99,
   "metadata": {},
   "outputs": [
    {
     "data": {
      "text/plain": [
       "<matplotlib.legend.Legend at 0x1f2c99ddc18>"
      ]
     },
     "execution_count": 99,
     "metadata": {},
     "output_type": "execute_result"
    },
    {
     "data": {
      "image/png": "[encoded data removed]",
      "text/plain": [
       "<Figure size 432x288 with 1 Axes>"
      ]
     },
     "metadata": {
      "needs_background": "light"
     },
     "output_type": "display_data"
    }
   ],
   "source": [
    "plt.xlabel('C')\n",
    "plt.ylabel('Accurate Rate')\n",
    "plt.plot(np.log10(C_set),  mean_score_valid, 'r-*',label = 'Average accuracy rate of validation')   \n",
    "plt.plot(np.log10(C_set),  mean_score_train, 'b-.',label = 'Average accuracy rate of training')  \n",
    "plt.plot(np.log10(C_set), score_test, 'g-', label = 'Accuracy rate of testing')\n",
    "plt.legend()"
   ]
  },
  {
   "cell_type": "code",
   "execution_count": null,
   "metadata": {},
   "outputs": [],
   "source": []
  }
 ],
 "metadata": {
  "kernelspec": {
   "display_name": "Python 3",
   "language": "python",
   "name": "python3"
  },
  "language_info": {
   "codemirror_mode": {
    "name": "ipython",
    "version": 3
   },
   "file_extension": ".py",
   "mimetype": "text/x-python",
   "name": "python",
   "nbconvert_exporter": "python",
   "pygments_lexer": "ipython3",
   "version": "3.6.9"
  }
 },
 "nbformat": 4,
 "nbformat_minor": 2
}
