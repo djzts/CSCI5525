{
 "cells": [
  {
   "cell_type": "code",
   "execution_count": 224,
   "metadata": {},
   "outputs": [],
   "source": [
    "import numpy as np\n",
    "import pandas as pd\n",
    "import matplotlib.pyplot as plt\n"
   ]
  },
  {
   "cell_type": "code",
   "execution_count": 225,
   "metadata": {},
   "outputs": [],
   "source": [
    "data_X = pd.read_csv(\"IRISFeat.csv\",header = None) .values\n",
    "data_y = pd.read_csv(\"IRISlabel.csv\",header = None).values\n",
    "# Preview the first 5 lines of the loaded data "
   ]
  },
  {
   "cell_type": "code",
   "execution_count": 226,
   "metadata": {},
   "outputs": [],
   "source": [
    "def get_next_train_valid(X_shuffled, y_shuffled, k, itr = 0):\n",
    "    \"\"\"\n",
    "    - itr value can tell you which fold you pick up for valid and rest go to training\n",
    "    - use 1 fold for validation and all other folds for training\n",
    "    - in next iteration, use a different fold for validation and remaining folds for training\n",
    "        \n",
    "    Basically, here you will determine which fold goes for validation and which ones for training\n",
    "    \"\"\"\n",
    "    X_valid = X_shuffled[itr*len(X_shuffled)//k:(itr+1)*len(X_shuffled)//k,:]\n",
    "    Y_valid = y_shuffled[itr*len(y_shuffled)//k:(itr+1)*len(y_shuffled)//k]\n",
    "    X_train = np.delete(X_shuffled, np.s_[itr*len(X_shuffled)//k:(itr+1)*len(X_shuffled)//k:1], 0)\n",
    "    Y_train = np.delete(y_shuffled, np.s_[itr*len(y_shuffled)//k:(itr+1)*len(y_shuffled)//k:1], 0)\n",
    "    \n",
    "    \n",
    "    return  X_train, Y_train, X_valid, Y_valid"
   ]
  },
  {
   "cell_type": "code",
   "execution_count": 316,
   "metadata": {},
   "outputs": [],
   "source": [
    "def train(X_train, Y_train, learning_rate, max_itr):\n",
    "    X_train_pading = np.concatenate((X_train, np.ones((len(X_train),1))), axis=1)\n",
    "    \n",
    "    W = np.ones(X_train_pading.shape[1])\n",
    "\n",
    "\n",
    "    for i in range(max_itr):\n",
    "        \n",
    "            for m in range(len(X_train_pading)):\n",
    "        \n",
    "        \n",
    "                W = W + learning_rate* (Y_train[m] - 1/(1+np.exp(-  W.T @ X_train_pading[m])  )) * X_train_pading[m]\n",
    "            \n",
    "    return W\n",
    "    \n",
    "    "
   ]
  },
  {
   "cell_type": "code",
   "execution_count": 371,
   "metadata": {},
   "outputs": [],
   "source": [
    "samples = np.concatenate((data_X, data_y), axis=1)\n",
    "\n",
    "#print(samples)\n",
    "np.random.shuffle(samples)\n",
    "    \n",
    "    #X\n",
    "X_shuffled = samples[:,:-1]\n",
    "#y_shuffled = samples[:,-1]*2-1\n",
    "y_shuffled = samples[:,-1]\n",
    "\n",
    "\n",
    "X_train, Y_train, X_valid, Y_valid = get_next_train_valid(X_shuffled, y_shuffled, 5)\n",
    "\n",
    "#print(X_train,Y_train)\n",
    "\n",
    "X_train_pading = np.concatenate((X_train, np.ones((len(X_train),1))), axis=1)\n",
    "\n",
    "\n",
    "\n",
    "#print(X_train_pading[1]) \n",
    "\n",
    "\n",
    "    "
   ]
  },
  {
   "cell_type": "code",
   "execution_count": 372,
   "metadata": {},
   "outputs": [],
   "source": [
    "#print(X_train_pading) \n",
    "a = np.array([1,2,3])\n",
    "b = np.array([1,2,3])"
   ]
  },
  {
   "cell_type": "code",
   "execution_count": 388,
   "metadata": {},
   "outputs": [],
   "source": [
    "W_0 = np.ones(X_train_pading.shape[1])\n",
    "\n",
    "learning_rate = 0.5\n",
    "\n",
    "\n",
    "for i in range(2*10**3):\n",
    "        \n",
    "        \n",
    "    for m in range(len(X_train_pading)):\n",
    "        \n",
    "        \n",
    "        W_0 = W_0 + learning_rate* (Y_train[m] - 1/(1+np.exp(-  W_0.T @ X_train_pading[m])  )) * X_train_pading[m]"
   ]
  },
  {
   "cell_type": "code",
   "execution_count": 389,
   "metadata": {},
   "outputs": [],
   "source": [
    "#Y_train * 1/(1+np.exp(- X_train_pading @ W_0))"
   ]
  },
  {
   "cell_type": "code",
   "execution_count": 390,
   "metadata": {},
   "outputs": [],
   "source": [
    "#X_train_pading"
   ]
  },
  {
   "cell_type": "code",
   "execution_count": 391,
   "metadata": {},
   "outputs": [
    {
     "data": {
      "text/plain": [
       "[<matplotlib.lines.Line2D at 0x26751a3a518>]"
      ]
     },
     "execution_count": 391,
     "metadata": {},
     "output_type": "execute_result"
    },
    {
     "data": {
      "image/png": "[encoded data removed]",
      "text/plain": [
       "<Figure size 432x288 with 1 Axes>"
      ]
     },
     "metadata": {
      "needs_background": "light"
     },
     "output_type": "display_data"
    }
   ],
   "source": [
    "for i in range(len(X_train_pading)):\n",
    "    if (Y_train[i] == 1):\n",
    "        plt.plot(X_train_pading[i,0], X_train_pading[i,1] , '.k')\n",
    "    else:\n",
    "        plt.plot(X_train_pading[i,0], X_train_pading[i,1] , '.b')\n",
    "\n",
    "x = np.arange(3.0, 9.0, 0.05)\n",
    "y = -(W_0[0]/W_0[1]*x)-(W_0[2]/W_0[1])\n",
    "\n",
    "plt.xlim(np.min(X_train_pading[:,0])-0.5, np.max(X_train_pading[:,0])+0.5) \n",
    "plt.ylim(np.min(X_train_pading[:,1])-0.5, np.max(X_train_pading[:,1])+0.5) \n",
    "plt.plot(x, y , '-')"
   ]
  },
  {
   "cell_type": "code",
   "execution_count": 392,
   "metadata": {},
   "outputs": [
    {
     "data": {
      "text/plain": [
       "array([ 43.20624478, -42.86467345, -99.82837956])"
      ]
     },
     "execution_count": 392,
     "metadata": {},
     "output_type": "execute_result"
    }
   ],
   "source": [
    "W_0"
   ]
  },
  {
   "cell_type": "code",
   "execution_count": 393,
   "metadata": {},
   "outputs": [
    {
     "data": {
      "text/plain": [
       "array([4.7, 3.2, 1. ])"
      ]
     },
     "execution_count": 393,
     "metadata": {},
     "output_type": "execute_result"
    }
   ],
   "source": [
    "X_train_pading[m]"
   ]
  },
  {
   "cell_type": "code",
   "execution_count": 257,
   "metadata": {},
   "outputs": [
    {
     "data": {
      "text/plain": [
       "-22.812460572627543"
      ]
     },
     "execution_count": 257,
     "metadata": {},
     "output_type": "execute_result"
    }
   ],
   "source": [
    "#plt.plot(range(len(Objective)), Objective)\n",
    "\n",
    "W_0.T @ X_train_pading[m]"
   ]
  },
  {
   "cell_type": "code",
   "execution_count": null,
   "metadata": {},
   "outputs": [],
   "source": []
  }
 ],
 "metadata": {
  "kernelspec": {
   "display_name": "Python 3",
   "language": "python",
   "name": "python3"
  },
  "language_info": {
   "codemirror_mode": {
    "name": "ipython",
    "version": 3
   },
   "file_extension": ".py",
   "mimetype": "text/x-python",
   "name": "python",
   "nbconvert_exporter": "python",
   "pygments_lexer": "ipython3",
   "version": "3.6.9"
  }
 },
 "nbformat": 4,
 "nbformat_minor": 2
}
