{
 "cells": [
  {
   "cell_type": "code",
   "execution_count": 225,
   "metadata": {},
   "outputs": [],
   "source": [
    "import numpy as np\n",
    "import pandas as pd\n",
    "import matplotlib.pyplot as plt"
   ]
  },
  {
   "cell_type": "code",
   "execution_count": 226,
   "metadata": {},
   "outputs": [],
   "source": [
    "data_X = pd.read_csv(\"IRISFeat.csv\",header = None) .values\n",
    "data_y = pd.read_csv(\"IRISlabel.csv\",header = None).values\n",
    "# Preview the first 5 lines of the loaded data "
   ]
  },
  {
   "cell_type": "code",
   "execution_count": 227,
   "metadata": {},
   "outputs": [],
   "source": [
    "def get_next_train_valid(X_shuffled, y_shuffled, k, itr = 0):\n",
    "    \"\"\"\n",
    "    - itr value can tell you which fold you pick up for valid and rest go to training\n",
    "    - use 1 fold for validation and all other folds for training\n",
    "    - in next iteration, use a different fold for validation and remaining folds for training\n",
    "        \n",
    "    Basically, here you will determine which fold goes for validation and which ones for training\n",
    "    \"\"\"\n",
    "    X_valid = X_shuffled[itr*len(X_shuffled)//k:(itr+1)*len(X_shuffled)//k,:]\n",
    "    Y_valid = y_shuffled[itr*len(y_shuffled)//k:(itr+1)*len(y_shuffled)//k]\n",
    "    X_train = np.delete(X_shuffled, np.s_[itr*len(X_shuffled)//k:(itr+1)*len(X_shuffled)//k:1], 0)\n",
    "    Y_train = np.delete(y_shuffled, np.s_[itr*len(y_shuffled)//k:(itr+1)*len(y_shuffled)//k:1], 0)\n",
    "    \n",
    "    \n",
    "    return  X_train, Y_train, X_valid, Y_valid"
   ]
  },
  {
   "cell_type": "code",
   "execution_count": 228,
   "metadata": {},
   "outputs": [
    {
     "name": "stderr",
     "output_type": "stream",
     "text": [
      "F:\\AppStore\\Anaconda\\lib\\site-packages\\ipykernel_launcher.py:47: RuntimeWarning: overflow encountered in exp\n",
      "F:\\AppStore\\Anaconda\\lib\\site-packages\\ipykernel_launcher.py:38: RuntimeWarning: overflow encountered in exp\n",
      "F:\\AppStore\\Anaconda\\lib\\site-packages\\ipykernel_launcher.py:38: RuntimeWarning: invalid value encountered in true_divide\n",
      "F:\\AppStore\\Anaconda\\lib\\site-packages\\ipykernel_launcher.py:38: RuntimeWarning: overflow encountered in multiply\n",
      "F:\\AppStore\\Anaconda\\lib\\site-packages\\ipykernel_launcher.py:38: RuntimeWarning: invalid value encountered in multiply\n",
      "F:\\AppStore\\Anaconda\\lib\\site-packages\\ipykernel_launcher.py:47: RuntimeWarning: invalid value encountered in multiply\n"
     ]
    }
   ],
   "source": [
    "Samples = np.concatenate((data_X, data_y), axis=1)\n",
    "\n",
    "#print(Samples)\n",
    "np.random.shuffle(samples)\n",
    "    \n",
    "    #X\n",
    "X_shuffled = samples[:,:-1]\n",
    "#y_shuffled = samples[:,-1]*2-1\n",
    "y_shuffled = samples[:,-1]\n",
    "\n",
    "\n",
    "X_train, Y_train, X_valid, Y_valid = get_next_train_valid(X_shuffled, y_shuffled, 5)\n",
    "\n",
    "#print(X_train,Y_train)\n",
    "\n",
    "X_train_pading = np.concatenate((X_train, np.ones((len(X_train),1))), axis=1)\n",
    "\n",
    "\n",
    "#print(X_train_pading[1]) \n",
    "\n",
    "W_0 = np.ones(3)\n",
    "\n",
    "Objective = np.array([])\n",
    "\n",
    "s = 1\n",
    "\n",
    "beta = 0.1\n",
    "\n",
    "\n",
    "for i in range(5*10**3):\n",
    "    \n",
    "    aa = s\n",
    "    \n",
    "    summ = np.zeros(3)\n",
    "    \n",
    "    for m in range(len(X_train_pading)):\n",
    "        \n",
    "        summ = summ + -Y_train[m] * X_train_pading[m] * np.exp(-Y_train[m]* W_0 * X_train_pading[m] )/( 1 + np.exp(-Y_train[m]* W_0 * X_train_pading[m] ) );\n",
    "            \n",
    "        #print(summ)\n",
    "    \n",
    "    f1 = -((1/len(X_train_pading))*summ);\n",
    "    \n",
    "    S = 0\n",
    "    \n",
    "    for m in range(len(X_train_pading)):\n",
    "        S = S + np.log(1 + np.exp(-Y_train[m] * W_0 @ X_train_pading[m]))\n",
    "        \n",
    "    #print(S)\n",
    "    \n",
    "    object_i = np.array([(1/len(X_train_pading))*S]);\n",
    "    \n",
    "    #print(object_i)\n",
    "    #print(Objective)\n",
    "    \n",
    "    Objective = np.concatenate((Objective,object_i),axis=0)\n",
    "    \n",
    "    if (np.linalg.norm(f1)<0.0001):\n",
    "        break\n",
    "    elif i>10000:\n",
    "        break\n",
    "    else:\n",
    "        #print(f1)\n",
    "        W_0 = W_0 -beta * f1"
   ]
  },
  {
   "cell_type": "code",
   "execution_count": 229,
   "metadata": {},
   "outputs": [
    {
     "data": {
      "text/plain": [
       "[<matplotlib.lines.Line2D at 0x217b0672080>]"
      ]
     },
     "execution_count": 229,
     "metadata": {},
     "output_type": "execute_result"
    },
    {
     "data": {
      "image/png": "[encoded data removed]",
      "text/plain": [
       "<Figure size 432x288 with 1 Axes>"
      ]
     },
     "metadata": {
      "needs_background": "light"
     },
     "output_type": "display_data"
    }
   ],
   "source": [
    "plt.plot(range(len(Objective)), Objective)"
   ]
  },
  {
   "cell_type": "code",
   "execution_count": 230,
   "metadata": {},
   "outputs": [
    {
     "data": {
      "text/plain": [
       "array([6.3, 2.7, 1. ])"
      ]
     },
     "execution_count": 230,
     "metadata": {},
     "output_type": "execute_result"
    }
   ],
   "source": [
    "X_train_pading[m]\n"
   ]
  },
  {
   "cell_type": "code",
   "execution_count": 231,
   "metadata": {},
   "outputs": [
    {
     "data": {
      "text/plain": [
       "array([          nan,           nan, -329.57130202])"
      ]
     },
     "execution_count": 231,
     "metadata": {},
     "output_type": "execute_result"
    }
   ],
   "source": [
    "W_0"
   ]
  },
  {
   "cell_type": "code",
   "execution_count": 232,
   "metadata": {},
   "outputs": [
    {
     "data": {
      "text/plain": [
       "[<matplotlib.lines.Line2D at 0x217b0620a58>]"
      ]
     },
     "execution_count": 232,
     "metadata": {},
     "output_type": "execute_result"
    },
    {
     "data": {
      "image/png": "[encoded data removed]",
      "text/plain": [
       "<Figure size 432x288 with 1 Axes>"
      ]
     },
     "metadata": {
      "needs_background": "light"
     },
     "output_type": "display_data"
    }
   ],
   "source": [
    "for i in range(len(X_train)):\n",
    "    if (Y_train[i] == 1):\n",
    "        plt.plot(X_train[i,0], X_train[i,1] , '.k')\n",
    "    else:\n",
    "        plt.plot(X_train[i,0], X_train[i,1] , 'ob')\n",
    "\n",
    "x = np.arange(3.0, 9.0, 0.05)\n",
    "y = (W_0[2]/W_0[0]*x)+(W_0[2]/W_0[0]);\n",
    "\n",
    "plt.xlim(np.min(X_train[:,0])-0.5, np.max(X_train[:,0])+0.5) \n",
    "plt.ylim(np.min(X_train[:,1])-0.5, np.max(X_train[:,1])+0.5) \n",
    "plt.plot(x, y , '-')"
   ]
  },
  {
   "cell_type": "code",
   "execution_count": 178,
   "metadata": {},
   "outputs": [
    {
     "data": {
      "text/plain": [
       "array([ 4.74850259, -7.8409286 , -1.40309151])"
      ]
     },
     "execution_count": 178,
     "metadata": {},
     "output_type": "execute_result"
    }
   ],
   "source": [
    "W_0"
   ]
  },
  {
   "cell_type": "code",
   "execution_count": null,
   "metadata": {},
   "outputs": [],
   "source": []
  }
 ],
 "metadata": {
  "kernelspec": {
   "display_name": "Python 3",
   "language": "python",
   "name": "python3"
  },
  "language_info": {
   "codemirror_mode": {
    "name": "ipython",
    "version": 3
   },
   "file_extension": ".py",
   "mimetype": "text/x-python",
   "name": "python",
   "nbconvert_exporter": "python",
   "pygments_lexer": "ipython3",
   "version": "3.6.9"
  }
 },
 "nbformat": 4,
 "nbformat_minor": 2
}
