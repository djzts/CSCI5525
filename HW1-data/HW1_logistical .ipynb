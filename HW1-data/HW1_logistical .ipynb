{
 "cells": [
  {
   "cell_type": "code",
   "execution_count": 18,
   "metadata": {},
   "outputs": [],
   "source": [
    "import numpy as np\n",
    "import pandas as pd\n",
    "\n",
    "import matplotlib.pyplot as plt\n"
   ]
  },
  {
   "cell_type": "markdown",
   "metadata": {},
   "source": [
    "Assume the data satisfies a certain log-likelihood function $\\ell(y_i \\mid x_i, \\mathbf{w}) = y_i \\ln(\\sigma(\\mathbf{w}^\\intercal x_i)) + (1 - y_i)\\ln(\\sigma(-\\mathbf{w}^\\intercal x_i))$, We can use the gradient descent method to update $\\mathbf{w}$ and reach a steady spot, which is $\\mathbf{w}_{t} = \\mathbf{w}_{t-1} + \\nabla_{\\mathbf{w}} F(\\mathbf{w}_{t-1})$ and $\\frac{\\partial }{\\partial w_j}\\ell(y_i \\mid x_i, \\mathbf{w}) = y_{i}x_{ij}- \\dfrac{x_{ij}\\mathrm{e}^{\\mathbf{w} ^\\intercal x_{i}}}{\\mathrm{e}^{\\mathbf{w} ^\\intercal x_{i}}+1}$. We can accelerate the update process by setting a up a rule that a small update will stop its update process. We can add an intecept by add one more feature with one to the $X$, which is $X_{i}padding = [X_{i},1]$. $\\because$ the classification vector is a line that $0 = \\mathbf{w}^\\intercal x_i \\Rightarrow x_{i}[0]\\mathbf{w}[0]+x_{i}[1]\\mathbf{w}[1]+\\mathbf{w}[2]=0$ $\\therefore x_{i}[1] = -(\\frac{\\mathbf{w}[0]}{\\mathbf{w}[1]}x_{i}[0]+\\frac{\\mathbf{w}[2]}{\\mathbf{w}[0]})$ and we can take this line as the classification hyperplane.If you still have some questions, I've done a lot of notations behind each line in my code.\n"
   ]
  },
  {
   "cell_type": "code",
   "execution_count": 19,
   "metadata": {},
   "outputs": [],
   "source": [
    "def get_next_train_valid(X_shuffled, y_shuffled, k, itr = 0):\n",
    "    \"\"\"\n",
    "    - itr value can tell you which fold you pick up for valid and rest go to training\n",
    "    - use 1 fold for validation and all other folds for training\n",
    "    - in next iteration, use a different fold for validation and remaining folds for training\n",
    "        \n",
    "    Basically, here you will determine which fold goes for validation and which ones for training\n",
    "    \"\"\"\n",
    "    X_valid = X_shuffled[itr*len(X_shuffled)//k:(itr+1)*len(X_shuffled)//k,:]\n",
    "    Y_valid = y_shuffled[itr*len(y_shuffled)//k:(itr+1)*len(y_shuffled)//k]\n",
    "    X_train = np.delete(X_shuffled, np.s_[itr*len(X_shuffled)//k:(itr+1)*len(X_shuffled)//k:1], 0)\n",
    "    Y_train = np.delete(y_shuffled, np.s_[itr*len(y_shuffled)//k:(itr+1)*len(y_shuffled)//k:1], 0)\n",
    "    \n",
    "    return  X_train, Y_train, X_valid, Y_valid"
   ]
  },
  {
   "cell_type": "code",
   "execution_count": 26,
   "metadata": {},
   "outputs": [],
   "source": [
    "def train(X_train, Y_train, learning_rate, max_itr):\n",
    "    \n",
    "    # add one feature \"1\" to the feature matrix    \n",
    "    X_train_pading = np.concatenate((X_train, np.ones((len(X_train),1))), axis=1)\n",
    "    \n",
    "    #initial W\n",
    "    W = np.ones(X_train_pading.shape[1])\n",
    "\n",
    "    \n",
    "    for i in range(max_itr):\n",
    "        \n",
    "        #record the previous W\n",
    "        W_pre  =  W \n",
    "        \n",
    "        for m in range(len(X_train_pading)):\n",
    "                \n",
    "            #update W\n",
    "            W = W + learning_rate* (Y_train[m] - 1/(1+np.exp(-  W.T @ X_train_pading[m])) ) * X_train_pading[m]\n",
    "                \n",
    "        # (optional)set up the threshold of escaping from the updating loop         \n",
    "        ###if np.linalg.norm(W-W_pre)<10**(-5):\n",
    "        \n",
    "            #if update is really small, The W should be sit around the optimal spot, We can exit and save time for futher\n",
    "            # calculation\n",
    "            ###return W\n",
    "            \n",
    "                    \n",
    "    return W\n",
    "    \n",
    "    "
   ]
  },
  {
   "cell_type": "code",
   "execution_count": 27,
   "metadata": {},
   "outputs": [],
   "source": [
    "def predict(X_valid, W ):\n",
    "    \n",
    "    # add one feature \"1\" to the validation feature matrix  \n",
    "    X_valid_pading = np.concatenate((X_valid, np.ones((len(X_valid),1))), axis=1)\n",
    "    \n",
    "    # using sign((h(w,x)-0.5)*2) to predict y\n",
    "    y_predict = (np.sign(1/(1+np.exp(- X_valid_pading @ W))-1/2)+1)/2\n",
    "    \n",
    "    return y_predict"
   ]
  },
  {
   "cell_type": "code",
   "execution_count": null,
   "metadata": {},
   "outputs": [],
   "source": []
  },
  {
   "cell_type": "code",
   "execution_count": 35,
   "metadata": {},
   "outputs": [
    {
     "name": "stdout",
     "output_type": "stream",
     "text": [
      "0.0\n",
      "4.95\n",
      "9.9\n",
      "14.85\n",
      "19.8\n",
      "24.75\n",
      "29.7\n",
      "34.65\n",
      "39.6\n",
      "44.55\n",
      "49.5\n",
      "54.46\n",
      "59.41\n",
      "64.36\n"
     ]
    },
    {
     "name": "stderr",
     "output_type": "stream",
     "text": [
      "F:\\AppStore\\Anaconda\\lib\\site-packages\\ipykernel_launcher.py:18: RuntimeWarning: overflow encountered in exp\n",
      "F:\\AppStore\\Anaconda\\lib\\site-packages\\ipykernel_launcher.py:7: RuntimeWarning: overflow encountered in exp\n",
      "  import sys\n"
     ]
    },
    {
     "name": "stdout",
     "output_type": "stream",
     "text": [
      "69.31\n",
      "74.26\n",
      "79.21\n",
      "84.16\n",
      "89.11\n",
      "94.06\n",
      "99.01\n"
     ]
    },
    {
     "data": {
      "image/png": "[encoded data removed]",
      "text/plain": [
       "<Figure size 432x288 with 1 Axes>"
      ]
     },
     "metadata": {
      "needs_background": "light"
     },
     "output_type": "display_data"
    }
   ],
   "source": [
    "if __name__ == \"__main__\":\n",
    "    #read the data without header\n",
    "    data_X = pd.read_csv(\"IRISFeat.csv\",header = None) .values\n",
    "    data_y = pd.read_csv(\"IRISlabel.csv\",header = None).values\n",
    "    \n",
    "    #merge x,y together for future shuffling\n",
    "    samples = np.concatenate((data_X, data_y), axis=1)\n",
    "    \n",
    "    #shuffle [X,y]\n",
    "    np.random.shuffle(samples)\n",
    "    \n",
    "    X_shuffled = samples[:,:-1]\n",
    "    \n",
    "    y_shuffled = samples[:,-1]\n",
    "    \n",
    "    #set up learning rate\n",
    "    learning_rate_min = -5\n",
    "    \n",
    "    learning_rate_max = 4\n",
    "    \n",
    "    learning_num = 10**2 + 1\n",
    "    \n",
    "    #set up max iteration of update\n",
    "    max_itr = 3*10**3\n",
    "    \n",
    "    #set up K fold parameter\n",
    "    k = 5\n",
    "    \n",
    "    #set up learning rate set\n",
    "    learning_rate_set = np.linspace(learning_rate_min, learning_rate_max, learning_num)\n",
    "    \n",
    "    #set up error rate set for validation set\n",
    "    error_rate = np.zeros((k,len(learning_rate_set)))\n",
    "    \n",
    "    #set up error rate set for training set\n",
    "    error_rate_train = np.zeros((k,len(learning_rate_set)))\n",
    "    \n",
    "    for index, learning_rate_power in np.ndenumerate(learning_rate_set):\n",
    "        #(optional) help you to get over the boring time while you are waiting for result.\n",
    "        # It always takes around 30mins or longrt to get the result\n",
    "        #if you want to get it faster,please loose the threshold,reduced the learning num or lower the max_itr\n",
    "        if index[0]%5 < 0.2 :\n",
    "            print(np.round(index[0]/len(learning_rate_set)*100 , decimals = 2))\n",
    "        \n",
    "        learning_rate = 10 ** np.round(learning_rate_power, decimals = 2)\n",
    "        \n",
    "        for itr in range(k):\n",
    "            \n",
    "            #get training and validation data\n",
    "            X_train, Y_train, X_valid, Y_valid = get_next_train_valid(X_shuffled, y_shuffled, k, itr)\n",
    "            \n",
    "            #get the model done by updating w with fixed learning rate\n",
    "            W_set = train(X_train, Y_train, learning_rate, max_itr)\n",
    "            \n",
    "            # get the prediction of both training set and validation set\n",
    "            y_predict_train = predict(X_train, W_set)\n",
    "            \n",
    "            # caculate Erroe rate\n",
    "            error_rate_train[itr,index[0]] =np.sum(np.absolute(y_predict_train-Y_train))/len(Y_train) \n",
    "            \n",
    "            #same prediction and error calculation here\n",
    "            y_predict = predict(X_valid, W_set)\n",
    "            \n",
    "            error_rate[itr,index[0]] =np.sum(np.absolute(y_predict-Y_valid))/len(Y_valid) \n",
    "    \n",
    "    #plotting the error map\n",
    "    plt.xlabel(r'learning rate $\\alpha$ value in log10 scale')\n",
    "    plt.ylabel('Error rate of the coresponded '+ r'$\\lambda$')\n",
    "    plt.title('Error rate of on train and validation in 5 folds Cross Validation  ')\n",
    "    plt.plot(learning_rate_set,  np.mean(error_rate,axis = 0), 'b',label = 'valid')   \n",
    "    plt.plot(learning_rate_set,  np.mean(error_rate_train,axis = 0), 'k-', label = 'train')  \n",
    "    plt.legend()    \n",
    "            \n",
    "        \n",
    "    "
   ]
  },
  {
   "cell_type": "code",
   "execution_count": 37,
   "metadata": {},
   "outputs": [
    {
     "data": {
      "text/plain": [
       "<matplotlib.legend.Legend at 0x16cf79eeb70>"
      ]
     },
     "execution_count": 37,
     "metadata": {},
     "output_type": "execute_result"
    },
    {
     "data": {
      "image/png": "[encoded data removed]",
      "text/plain": [
       "<Figure size 432x288 with 1 Axes>"
      ]
     },
     "metadata": {
      "needs_background": "light"
     },
     "output_type": "display_data"
    }
   ],
   "source": [
    "# plot in log scale\n",
    "plt.xlabel(r'learning rate $\\alpha$ value in normal scale')\n",
    "plt.ylabel('Error rate of the coresponded '+ r'$\\lambda$')\n",
    "plt.title('Error rate of on train and validation in 5 folds Cross Validation  ')\n",
    "plt.plot(10**learning_rate_set,  np.mean(error_rate,axis = 0), 'b',label = 'valid')   \n",
    "plt.plot(10**learning_rate_set,  np.mean(error_rate_train,axis = 0), 'k-', label = 'train')  \n",
    "plt.legend()   "
   ]
  },
  {
   "cell_type": "markdown",
   "metadata": {},
   "source": [
    "As we can see, error is high in the region of head and tail. extreme learning rate(stepsize) will give you negative influence towarding updating process and make the model output wrong classifications.\n",
    "if your learning rate is small, the updates will take millions of step to reach the opt spot.\n",
    "if your learning rate is too big, the updates will jump back and forth around the opt spot and may have a chance that it will never touch the opt spot.\n",
    "\n",
    "Therefore, moderdate stepsizes are usually good choices to make your life easier.\n",
    "\n"
   ]
  },
  {
   "cell_type": "markdown",
   "metadata": {},
   "source": [
    "# run the following code\n",
    "it will give you an example to prove it can classify the data correctly.\n"
   ]
  },
  {
   "cell_type": "code",
   "execution_count": 40,
   "metadata": {},
   "outputs": [
    {
     "data": {
      "text/plain": [
       "[<matplotlib.lines.Line2D at 0x1195ceb8518>]"
      ]
     },
     "execution_count": 40,
     "metadata": {},
     "output_type": "execute_result"
    },
    {
     "data": {
      "image/png": "[encoded data removed]",
      "text/plain": [
       "<Figure size 432x288 with 1 Axes>"
      ]
     },
     "metadata": {
      "needs_background": "light"
     },
     "output_type": "display_data"
    }
   ],
   "source": [
    "\n",
    "X_train, Y_train, X_valid, Y_valid = get_next_train_valid(X_shuffled, y_shuffled, k = 5, itr = 0)\n",
    "\n",
    "W = train(X_train, Y_train, learning_rate=0.5, max_itr=10**4)\n",
    "\n",
    "\n",
    "y_predict_train = predict(X_train, W)\n",
    "\n",
    "\n",
    "\n",
    "\n",
    "\n",
    "for i in range(len(X_train)):\n",
    "    if (Y_train[i] == 1):\n",
    "        plt.plot(X_train[i,0], X_train[i,1] , '.k')\n",
    "    else:\n",
    "        plt.plot(X_train[i,0], X_train[i,1] , '.b')\n",
    "\n",
    "x = np.arange(3.0, 9.0, 0.05)\n",
    "y = -(W[0]/W[1]*x)-(W[2]/W[1])\n",
    "\n",
    "plt.xlim(np.min(X_train[:,0])-0.5, np.max(X_train[:,0])+0.5) \n",
    "plt.ylim(np.min(X_train[:,1])-0.5, np.max(X_train[:,1])+0.5) \n",
    "plt.plot(x, y , '-')"
   ]
  },
  {
   "cell_type": "code",
   "execution_count": 23,
   "metadata": {},
   "outputs": [],
   "source": []
  },
  {
   "cell_type": "code",
   "execution_count": null,
   "metadata": {},
   "outputs": [],
   "source": []
  },
  {
   "cell_type": "code",
   "execution_count": null,
   "metadata": {},
   "outputs": [],
   "source": []
  },
  {
   "cell_type": "code",
   "execution_count": null,
   "metadata": {},
   "outputs": [],
   "source": []
  }
 ],
 "metadata": {
  "kernelspec": {
   "display_name": "Python 3",
   "language": "python",
   "name": "python3"
  },
  "language_info": {
   "codemirror_mode": {
    "name": "ipython",
    "version": 3
   },
   "file_extension": ".py",
   "mimetype": "text/x-python",
   "name": "python",
   "nbconvert_exporter": "python",
   "pygments_lexer": "ipython3",
   "version": "3.6.9"
  }
 },
 "nbformat": 4,
 "nbformat_minor": 2
}
