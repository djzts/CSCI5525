{
 "cells": [
  {
   "cell_type": "code",
   "execution_count": 1,
   "metadata": {},
   "outputs": [],
   "source": [
    "import numpy as np\n",
    "import pandas as pd\n",
    "import matplotlib.pyplot as plt"
   ]
  },
  {
   "cell_type": "code",
   "execution_count": 2,
   "metadata": {},
   "outputs": [],
   "source": [
    "data_X = pd.read_csv(\"IRISFeat.csv\",header = None) .values\n",
    "data_y = pd.read_csv(\"IRISlabel.csv\",header = None).values\n",
    "# Preview the first 5 lines of the loaded data "
   ]
  },
  {
   "cell_type": "code",
   "execution_count": 3,
   "metadata": {},
   "outputs": [],
   "source": [
    "def get_next_train_valid(X_shuffled, y_shuffled, k, itr = 0):\n",
    "    \"\"\"\n",
    "    - itr value can tell you which fold you pick up for valid and rest go to training\n",
    "    - use 1 fold for validation and all other folds for training\n",
    "    - in next iteration, use a different fold for validation and remaining folds for training\n",
    "        \n",
    "    Basically, here you will determine which fold goes for validation and which ones for training\n",
    "    \"\"\"\n",
    "    X_valid = X_shuffled[itr*len(X_shuffled)//k:(itr+1)*len(X_shuffled)//k,:]\n",
    "    Y_valid = y_shuffled[itr*len(y_shuffled)//k:(itr+1)*len(y_shuffled)//k]\n",
    "    X_train = np.delete(X_shuffled, np.s_[itr*len(X_shuffled)//k:(itr+1)*len(X_shuffled)//k:1], 0)\n",
    "    Y_train = np.delete(y_shuffled, np.s_[itr*len(y_shuffled)//k:(itr+1)*len(y_shuffled)//k:1], 0)\n",
    "    \n",
    "    \n",
    "    return  X_train, Y_train, X_valid, Y_valid"
   ]
  },
  {
   "cell_type": "code",
   "execution_count": 172,
   "metadata": {},
   "outputs": [],
   "source": [
    "samples = np.concatenate((data_X, data_y), axis=1)\n",
    "\n",
    "#print(samples)\n",
    "np.random.shuffle(samples)\n",
    "    \n",
    "    #X\n",
    "X_shuffled = samples[:,:-1]\n",
    "#y_shuffled = samples[:,-1]*2-1\n",
    "y_shuffled = samples[:,-1]\n",
    "\n",
    "\n",
    "X_train, Y_train, X_valid, Y_valid = get_next_train_valid(X_shuffled, y_shuffled, 5)\n",
    "\n",
    "#print(X_train,Y_train)\n",
    "\n",
    "X_train_pading = np.concatenate((X_train, np.ones((len(X_train),1))), axis=1)\n",
    "\n",
    "\n",
    "#print(X_train_pading[1]) \n",
    "\n",
    "\n",
    "    "
   ]
  },
  {
   "cell_type": "code",
   "execution_count": 173,
   "metadata": {},
   "outputs": [
    {
     "name": "stdout",
     "output_type": "stream",
     "text": [
      "[[7.2 3.2 1. ]\n",
      " [5.8 2.8 1. ]\n",
      " [5.7 2.5 1. ]\n",
      " [5.2 3.4 1. ]\n",
      " [5.1 3.3 1. ]\n",
      " [6.3 2.3 1. ]\n",
      " [7.4 2.8 1. ]\n",
      " [7.3 2.9 1. ]\n",
      " [5.2 3.5 1. ]\n",
      " [5.1 3.5 1. ]\n",
      " [5.1 3.8 1. ]\n",
      " [6.4 3.2 1. ]\n",
      " [5.  3.4 1. ]\n",
      " [7.  3.2 1. ]\n",
      " [6.7 3.3 1. ]\n",
      " [5.1 3.4 1. ]\n",
      " [6.9 3.2 1. ]\n",
      " [6.2 2.8 1. ]\n",
      " [6.1 2.8 1. ]\n",
      " [5.  3.4 1. ]\n",
      " [5.5 2.4 1. ]\n",
      " [5.4 3.  1. ]\n",
      " [6.1 3.  1. ]\n",
      " [4.8 3.  1. ]\n",
      " [5.6 3.  1. ]\n",
      " [6.4 3.1 1. ]\n",
      " [6.5 3.2 1. ]\n",
      " [6.7 3.  1. ]\n",
      " [6.3 2.5 1. ]\n",
      " [5.  3.2 1. ]\n",
      " [6.4 2.8 1. ]\n",
      " [5.8 2.6 1. ]\n",
      " [5.4 3.9 1. ]\n",
      " [6.6 2.9 1. ]\n",
      " [4.9 3.6 1. ]\n",
      " [5.6 2.5 1. ]\n",
      " [6.1 2.6 1. ]\n",
      " [4.9 3.  1. ]\n",
      " [5.3 3.7 1. ]\n",
      " [7.7 2.6 1. ]\n",
      " [4.9 3.1 1. ]\n",
      " [5.5 2.5 1. ]\n",
      " [7.2 3.6 1. ]\n",
      " [5.5 2.4 1. ]\n",
      " [6.9 3.1 1. ]\n",
      " [4.3 3.  1. ]\n",
      " [5.5 4.2 1. ]\n",
      " [6.  2.2 1. ]\n",
      " [5.1 3.7 1. ]\n",
      " [6.3 2.7 1. ]\n",
      " [6.7 3.1 1. ]\n",
      " [5.1 3.5 1. ]\n",
      " [5.1 3.8 1. ]\n",
      " [6.2 3.4 1. ]\n",
      " [5.  3.  1. ]\n",
      " [6.3 2.8 1. ]\n",
      " [6.7 3.  1. ]\n",
      " [5.5 2.6 1. ]\n",
      " [6.3 2.9 1. ]\n",
      " [5.7 2.8 1. ]\n",
      " [6.3 3.4 1. ]\n",
      " [4.5 2.3 1. ]\n",
      " [6.8 2.8 1. ]\n",
      " [6.5 3.  1. ]\n",
      " [5.4 3.7 1. ]\n",
      " [6.1 3.  1. ]\n",
      " [6.1 2.8 1. ]\n",
      " [4.4 3.2 1. ]\n",
      " [7.7 2.8 1. ]\n",
      " [6.  3.4 1. ]\n",
      " [4.9 2.5 1. ]\n",
      " [5.7 2.9 1. ]\n",
      " [5.6 2.9 1. ]\n",
      " [5.9 3.  1. ]\n",
      " [4.6 3.6 1. ]\n",
      " [5.1 2.5 1. ]\n",
      " [5.4 3.4 1. ]\n",
      " [4.9 3.1 1. ]\n",
      " [4.4 2.9 1. ]\n",
      " [5.  3.6 1. ]\n",
      " [5.7 2.6 1. ]\n",
      " [7.9 3.8 1. ]\n",
      " [5.7 4.4 1. ]\n",
      " [5.2 4.1 1. ]\n",
      " [5.1 3.8 1. ]\n",
      " [4.8 3.4 1. ]\n",
      " [7.1 3.  1. ]\n",
      " [6.4 3.2 1. ]\n",
      " [5.  3.5 1. ]\n",
      " [6.3 3.3 1. ]\n",
      " [6.9 3.1 1. ]\n",
      " [4.6 3.2 1. ]\n",
      " [6.7 3.1 1. ]\n",
      " [4.7 3.2 1. ]\n",
      " [5.6 2.7 1. ]\n",
      " [5.  2.3 1. ]\n",
      " [5.  3.5 1. ]\n",
      " [6.5 3.  1. ]\n",
      " [6.  2.2 1. ]\n",
      " [5.2 2.7 1. ]\n",
      " [5.7 3.8 1. ]\n",
      " [5.8 2.7 1. ]\n",
      " [7.7 3.8 1. ]\n",
      " [5.  2.  1. ]\n",
      " [5.7 3.  1. ]\n",
      " [6.4 2.8 1. ]\n",
      " [5.7 2.8 1. ]\n",
      " [6.7 3.3 1. ]\n",
      " [7.7 3.  1. ]\n",
      " [5.5 2.3 1. ]\n",
      " [4.8 3.  1. ]\n",
      " [5.9 3.2 1. ]\n",
      " [6.1 2.9 1. ]\n",
      " [6.8 3.  1. ]\n",
      " [6.9 3.1 1. ]\n",
      " [5.  3.3 1. ]\n",
      " [5.4 3.4 1. ]\n",
      " [6.8 3.2 1. ]\n",
      " [6.3 3.3 1. ]\n",
      " [5.8 2.7 1. ]]\n"
     ]
    }
   ],
   "source": [
    "print(X_train_pading) "
   ]
  },
  {
   "cell_type": "code",
   "execution_count": 180,
   "metadata": {},
   "outputs": [],
   "source": [
    "W_0 = np.ones(X_train_pading.shape[1])\n",
    "\n",
    "learning_rate = 5\n",
    "\n",
    "\n",
    "for i in range(2*10**3):\n",
    "    \n",
    "    for n in range(3):\n",
    "        \n",
    "        temp = 0\n",
    "\n",
    "        for m in range(len(X_train_pading)):\n",
    "        \n",
    "        \n",
    "            temp = temp + (Y_train[m] - 1/(1+np.exp(-  W_0.T @ X_train_pading[m])  )) * X_train_pading[m,n]\n",
    "            \n",
    "        W_0[n] = W_0[n] + beta * temp/len(X_train_pading)"
   ]
  },
  {
   "cell_type": "code",
   "execution_count": 185,
   "metadata": {},
   "outputs": [
    {
     "data": {
      "text/plain": [
       "[<matplotlib.lines.Line2D at 0x2674af125f8>]"
      ]
     },
     "execution_count": 185,
     "metadata": {},
     "output_type": "execute_result"
    },
    {
     "data": {
      "image/png": "[encoded data removed]",
      "text/plain": [
       "<Figure size 432x288 with 1 Axes>"
      ]
     },
     "metadata": {
      "needs_background": "light"
     },
     "output_type": "display_data"
    }
   ],
   "source": [
    "for i in range(len(X_train_pading)):\n",
    "    if (Y_train[i] == 1):\n",
    "        plt.plot(X_train_pading[i,0], X_train_pading[i,1] , '.k')\n",
    "    else:\n",
    "        plt.plot(X_train_pading[i,0], X_train_pading[i,1] , '.b')\n",
    "\n",
    "x = np.arange(3.0, 9.0, 0.05)\n",
    "y = (-W_0[0]/W_0[2]*x)+(W_0[1]/W_0[2])\n",
    "\n",
    "plt.xlim(np.min(X_train_pading[:,0])-0.5, np.max(X_train_pading[:,0])+0.5) \n",
    "plt.ylim(np.min(X_train_pading[:,1])-0.5, np.max(X_train_pading[:,1])+0.5) \n",
    "plt.plot(x, y , '-')"
   ]
  },
  {
   "cell_type": "code",
   "execution_count": 182,
   "metadata": {},
   "outputs": [
    {
     "data": {
      "text/plain": [
       "array([ 3.75561695, -6.3272122 , -0.50449661])"
      ]
     },
     "execution_count": 182,
     "metadata": {},
     "output_type": "execute_result"
    }
   ],
   "source": [
    "W_0"
   ]
  },
  {
   "cell_type": "code",
   "execution_count": 183,
   "metadata": {},
   "outputs": [
    {
     "data": {
      "text/plain": [
       "array([5.8, 2.7, 1. ])"
      ]
     },
     "execution_count": 183,
     "metadata": {},
     "output_type": "execute_result"
    }
   ],
   "source": [
    "X_train_pading[m]"
   ]
  },
  {
   "cell_type": "code",
   "execution_count": 165,
   "metadata": {},
   "outputs": [
    {
     "data": {
      "text/plain": [
       "356676.1713717659"
      ]
     },
     "execution_count": 165,
     "metadata": {},
     "output_type": "execute_result"
    }
   ],
   "source": [
    "#plt.plot(range(len(Objective)), Objective)\n",
    "\n",
    "W_0.T @ X_train_pading[m]"
   ]
  },
  {
   "cell_type": "code",
   "execution_count": null,
   "metadata": {},
   "outputs": [],
   "source": []
  }
 ],
 "metadata": {
  "kernelspec": {
   "display_name": "Python 3",
   "language": "python",
   "name": "python3"
  },
  "language_info": {
   "codemirror_mode": {
    "name": "ipython",
    "version": 3
   },
   "file_extension": ".py",
   "mimetype": "text/x-python",
   "name": "python",
   "nbconvert_exporter": "python",
   "pygments_lexer": "ipython3",
   "version": "3.6.9"
  }
 },
 "nbformat": 4,
 "nbformat_minor": 2
}
