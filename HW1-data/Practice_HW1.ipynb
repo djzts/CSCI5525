{
 "cells": [
  {
   "cell_type": "code",
   "execution_count": 2,
   "metadata": {},
   "outputs": [],
   "source": [
    "import numpy as np\n",
    "import pandas as pd\n",
    "import matplotlib.pyplot as plt\n",
    "np.set_printoptions(suppress=True)"
   ]
  },
  {
   "cell_type": "code",
   "execution_count": 3,
   "metadata": {},
   "outputs": [
    {
     "data": {
      "text/html": [
       "<div>\n",
       "<style scoped>\n",
       "    .dataframe tbody tr th:only-of-type {\n",
       "        vertical-align: middle;\n",
       "    }\n",
       "\n",
       "    .dataframe tbody tr th {\n",
       "        vertical-align: top;\n",
       "    }\n",
       "\n",
       "    .dataframe thead th {\n",
       "        text-align: right;\n",
       "    }\n",
       "</style>\n",
       "<table border=\"1\" class=\"dataframe\">\n",
       "  <thead>\n",
       "    <tr style=\"text-align: right;\">\n",
       "      <th></th>\n",
       "      <th>CRIM</th>\n",
       "      <th>ZN</th>\n",
       "      <th>INDUS</th>\n",
       "      <th>CHAS</th>\n",
       "      <th>NOX</th>\n",
       "      <th>RM</th>\n",
       "      <th>AGE</th>\n",
       "      <th>DIS</th>\n",
       "      <th>RAD</th>\n",
       "      <th>TAX</th>\n",
       "      <th>PTRATIO</th>\n",
       "      <th>B</th>\n",
       "      <th>LSTAT</th>\n",
       "      <th>PRICE</th>\n",
       "    </tr>\n",
       "  </thead>\n",
       "  <tbody>\n",
       "    <tr>\n",
       "      <td>0</td>\n",
       "      <td>0.00632</td>\n",
       "      <td>18.0</td>\n",
       "      <td>2.31</td>\n",
       "      <td>0</td>\n",
       "      <td>0.538</td>\n",
       "      <td>6.575</td>\n",
       "      <td>65.2</td>\n",
       "      <td>4.0900</td>\n",
       "      <td>1</td>\n",
       "      <td>296</td>\n",
       "      <td>15.3</td>\n",
       "      <td>396.90</td>\n",
       "      <td>4.98</td>\n",
       "      <td>24.0</td>\n",
       "    </tr>\n",
       "    <tr>\n",
       "      <td>1</td>\n",
       "      <td>0.02731</td>\n",
       "      <td>0.0</td>\n",
       "      <td>7.07</td>\n",
       "      <td>0</td>\n",
       "      <td>0.469</td>\n",
       "      <td>6.421</td>\n",
       "      <td>78.9</td>\n",
       "      <td>4.9671</td>\n",
       "      <td>2</td>\n",
       "      <td>242</td>\n",
       "      <td>17.8</td>\n",
       "      <td>396.90</td>\n",
       "      <td>9.14</td>\n",
       "      <td>21.6</td>\n",
       "    </tr>\n",
       "    <tr>\n",
       "      <td>2</td>\n",
       "      <td>0.02729</td>\n",
       "      <td>0.0</td>\n",
       "      <td>7.07</td>\n",
       "      <td>0</td>\n",
       "      <td>0.469</td>\n",
       "      <td>7.185</td>\n",
       "      <td>61.1</td>\n",
       "      <td>4.9671</td>\n",
       "      <td>2</td>\n",
       "      <td>242</td>\n",
       "      <td>17.8</td>\n",
       "      <td>392.83</td>\n",
       "      <td>4.03</td>\n",
       "      <td>34.7</td>\n",
       "    </tr>\n",
       "    <tr>\n",
       "      <td>3</td>\n",
       "      <td>0.03237</td>\n",
       "      <td>0.0</td>\n",
       "      <td>2.18</td>\n",
       "      <td>0</td>\n",
       "      <td>0.458</td>\n",
       "      <td>6.998</td>\n",
       "      <td>45.8</td>\n",
       "      <td>6.0622</td>\n",
       "      <td>3</td>\n",
       "      <td>222</td>\n",
       "      <td>18.7</td>\n",
       "      <td>394.63</td>\n",
       "      <td>2.94</td>\n",
       "      <td>33.4</td>\n",
       "    </tr>\n",
       "    <tr>\n",
       "      <td>4</td>\n",
       "      <td>0.06905</td>\n",
       "      <td>0.0</td>\n",
       "      <td>2.18</td>\n",
       "      <td>0</td>\n",
       "      <td>0.458</td>\n",
       "      <td>7.147</td>\n",
       "      <td>54.2</td>\n",
       "      <td>6.0622</td>\n",
       "      <td>3</td>\n",
       "      <td>222</td>\n",
       "      <td>18.7</td>\n",
       "      <td>396.90</td>\n",
       "      <td>5.33</td>\n",
       "      <td>36.2</td>\n",
       "    </tr>\n",
       "  </tbody>\n",
       "</table>\n",
       "</div>"
      ],
      "text/plain": [
       "      CRIM    ZN  INDUS  CHAS    NOX     RM   AGE     DIS  RAD  TAX  PTRATIO  \\\n",
       "0  0.00632  18.0   2.31     0  0.538  6.575  65.2  4.0900    1  296     15.3   \n",
       "1  0.02731   0.0   7.07     0  0.469  6.421  78.9  4.9671    2  242     17.8   \n",
       "2  0.02729   0.0   7.07     0  0.469  7.185  61.1  4.9671    2  242     17.8   \n",
       "3  0.03237   0.0   2.18     0  0.458  6.998  45.8  6.0622    3  222     18.7   \n",
       "4  0.06905   0.0   2.18     0  0.458  7.147  54.2  6.0622    3  222     18.7   \n",
       "\n",
       "        B  LSTAT  PRICE  \n",
       "0  396.90   4.98   24.0  \n",
       "1  396.90   9.14   21.6  \n",
       "2  392.83   4.03   34.7  \n",
       "3  394.63   2.94   33.4  \n",
       "4  396.90   5.33   36.2  "
      ]
     },
     "execution_count": 3,
     "metadata": {},
     "output_type": "execute_result"
    }
   ],
   "source": [
    "data = pd.read_csv(\"Housing.csv\") \n",
    "# Preview the first 5 lines of the loaded data \n",
    "data.head()"
   ]
  },
  {
   "cell_type": "code",
   "execution_count": 4,
   "metadata": {},
   "outputs": [
    {
     "data": {
      "text/plain": [
       "(505, 14)"
      ]
     },
     "execution_count": 4,
     "metadata": {},
     "output_type": "execute_result"
    }
   ],
   "source": [
    "data.shape\n"
   ]
  },
  {
   "cell_type": "code",
   "execution_count": 5,
   "metadata": {},
   "outputs": [],
   "source": [
    "samples = np.array(data)\n",
    "np.random.shuffle(samples)\n",
    "samples_full = sample"
   ]
  },
  {
   "cell_type": "code",
   "execution_count": 6,
   "metadata": {},
   "outputs": [
    {
     "name": "stdout",
     "output_type": "stream",
     "text": [
      "[[  6.96215   0.       18.1     ... 394.43     17.11     15.1    ]\n",
      " [  6.44405   0.       18.1     ...  97.95     12.03     16.1    ]\n",
      " [ 25.9406    0.       18.1     ... 127.36     26.64     10.4    ]\n",
      " ...\n",
      " [ 14.2362    0.       18.1     ... 396.9      20.32      7.2    ]\n",
      " [  4.64689   0.       18.1     ... 374.68     11.66     29.8    ]\n",
      " [  2.63548   0.        9.9     ... 350.45     12.64     16.1    ]]\n",
      "505\n"
     ]
    }
   ],
   "source": [
    "print(samples[101:])\n",
    "print(len(samples))"
   ]
  },
  {
   "cell_type": "code",
   "execution_count": 96,
   "metadata": {},
   "outputs": [
    {
     "name": "stdout",
     "output_type": "stream",
     "text": [
      "(505, 14)\n"
     ]
    }
   ],
   "source": [
    "i = 0\n",
    "k = 5\n",
    "X_valid = samples[i*len(samples)//k:(i+1)*len(samples)//k,:-1]\n",
    "Y_valid = samples[:len(samples)//k,-1:]\n",
    "leftover = np.delete(samples, np.s_[i*len(samples)//k:(i+1)*len(samples)//k:1], 0)\n",
    "X_train = leftover [:,:-1]\n",
    "Y_train = leftover [:,-1]\n",
    "\n",
    "print(samples.shape)\n",
    "\n"
   ]
  },
  {
   "cell_type": "code",
   "execution_count": null,
   "metadata": {},
   "outputs": [],
   "source": [
    " "
   ]
  },
  {
   "cell_type": "code",
   "execution_count": 44,
   "metadata": {},
   "outputs": [
    {
     "name": "stdout",
     "output_type": "stream",
     "text": [
      "(404, 13)\n",
      "(101, 13)\n",
      "[[  6.96215   0.       18.1     ...  20.2     394.43     17.11   ]\n",
      " [  6.44405   0.       18.1     ...  20.2      97.95     12.03   ]\n",
      " [ 25.9406    0.       18.1     ...  20.2     127.36     26.64   ]\n",
      " ...\n",
      " [ 14.2362    0.       18.1     ...  20.2     396.9      20.32   ]\n",
      " [  4.64689   0.       18.1     ...  20.2     374.68     11.66   ]\n",
      " [  2.63548   0.        9.9     ...  18.4     350.45     12.64   ]]\n"
     ]
    },
    {
     "data": {
      "text/plain": [
       "(404,)"
      ]
     },
     "execution_count": 44,
     "metadata": {},
     "output_type": "execute_result"
    }
   ],
   "source": [
    "print(X_train.shape)\n",
    "print(X_valid.shape)\n",
    "print(X_train)\n",
    "Y_train.shape"
   ]
  },
  {
   "cell_type": "code",
   "execution_count": 45,
   "metadata": {},
   "outputs": [
    {
     "name": "stdout",
     "output_type": "stream",
     "text": [
      "[  3.49975384  11.47277228  11.00527228   0.07178218   0.55454901\n",
      "   6.29457673  68.63217822   3.78869183   9.5        407.24257426\n",
      "  18.41460396 359.48826733  12.58141089]\n",
      "22.871287128712872\n"
     ]
    }
   ],
   "source": [
    "X_train_mean = np.mean(X_train, axis=0)\n",
    "Y_train_mean = np.mean(Y_train, axis=0)\n",
    "print(X_train_mean )\n",
    "print(Y_train_mean )\n"
   ]
  },
  {
   "cell_type": "code",
   "execution_count": 49,
   "metadata": {},
   "outputs": [
    {
     "data": {
      "text/plain": [
       "22.871287128712872"
      ]
     },
     "execution_count": 49,
     "metadata": {},
     "output_type": "execute_result"
    }
   ],
   "source": [
    "Y_train_mean"
   ]
  },
  {
   "cell_type": "code",
   "execution_count": 50,
   "metadata": {},
   "outputs": [
    {
     "name": "stdout",
     "output_type": "stream",
     "text": [
      "[[   3.46239616  -11.47277228    7.09472772 ...    1.78539604\n",
      "    34.94173267    4.52858911]\n",
      " [   2.94429616  -11.47277228    7.09472772 ...    1.78539604\n",
      "  -261.53826733   -0.55141089]\n",
      " [  22.44084616  -11.47277228    7.09472772 ...    1.78539604\n",
      "  -232.12826733   14.05858911]\n",
      " ...\n",
      " [  10.73644616  -11.47277228    7.09472772 ...    1.78539604\n",
      "    37.41173267    7.73858911]\n",
      " [   1.14713616  -11.47277228    7.09472772 ...    1.78539604\n",
      "    15.19173267   -0.92141089]\n",
      " [  -0.86427384  -11.47277228   -1.10527228 ...   -0.01460396\n",
      "    -9.03826733    0.05858911]]\n",
      "(404,)\n"
     ]
    }
   ],
   "source": [
    "X_train_reduced = X_train - np.tile(X_train_mean,(len(X_train),1))\n",
    "Y_train_reduced = Y_train - np.tile(Y_train_mean,(len(Y_train)))\n",
    "print(X_train_reduced )\n",
    "print(Y_train_reduced.shape )"
   ]
  },
  {
   "cell_type": "code",
   "execution_count": 63,
   "metadata": {},
   "outputs": [
    {
     "name": "stdout",
     "output_type": "stream",
     "text": [
      "()\n",
      "()\n",
      "(13,)\n",
      "(101,)\n",
      "(101, 1)\n"
     ]
    }
   ],
   "source": [
    "lamda = 6\n",
    "product_0 = X_train_reduced.T @ X_train_reduced  \n",
    "product_1 = lamda * np.eye(len(product_0))\n",
    "W = np.linalg.inv(product_0 + product_1)@ X_train_reduced.T @ Y_train_reduced\n",
    "residue = -X_train_mean@W + Y_train_mean\n",
    "\n",
    "print(residue.shape)\n",
    "print(Y_train_mean.shape)\n",
    "print(W.shape)\n",
    "print((X_valid@W).shape)\n",
    "print(Y_valid.shape)"
   ]
  },
  {
   "cell_type": "code",
   "execution_count": 95,
   "metadata": {},
   "outputs": [
    {
     "name": "stdout",
     "output_type": "stream",
     "text": [
      "[16.5676392]\n"
     ]
    }
   ],
   "source": [
    "mse_k = ((Y_valid.T - (X_valid@W + residue))**2).mean(axis=1)\n",
    "print(mse_k)\n",
    "\n"
   ]
  },
  {
   "cell_type": "code",
   "execution_count": null,
   "metadata": {},
   "outputs": [],
   "source": []
  },
  {
   "cell_type": "code",
   "execution_count": 105,
   "metadata": {},
   "outputs": [
    {
     "name": "stdout",
     "output_type": "stream",
     "text": [
      "     0    1\n",
      "0  5.1  3.5\n",
      "1  4.9  3.0\n",
      "2  4.7  3.2\n",
      "3  4.6  3.1\n",
      "4  5.0  3.6\n",
      "   0\n",
      "0  0\n",
      "1  0\n",
      "2  0\n",
      "3  0\n",
      "4  0\n",
      "(150, 1)\n",
      "0    100\n",
      "dtype: int64\n"
     ]
    }
   ],
   "source": [
    "data_X = pd.read_csv(\"IRISFeat.csv\",header = None) \n",
    "data_y = pd.read_csv(\"IRISlabel.csv\",header = None)\n",
    "# Preview the first 5 lines of the loaded data \n",
    "print(data_X.head())\n",
    "print(data_y.head())\n",
    "print(data_y.shape)\n",
    "print(np.sum(data_y))"
   ]
  },
  {
   "cell_type": "code",
   "execution_count": 103,
   "metadata": {},
   "outputs": [
    {
     "name": "stdout",
     "output_type": "stream",
     "text": [
      "[[1.]\n",
      " [1.]]\n"
     ]
    }
   ],
   "source": [
    "#initial the w \n",
    "W0 = np.ones((2,1))\n",
    "print(W0)"
   ]
  },
  {
   "cell_type": "code",
   "execution_count": null,
   "metadata": {},
   "outputs": [],
   "source": [
    "for i in len(data_X):\n",
    "    for j in len(W0):\n",
    "        W0[j] = "
   ]
  },
  {
   "cell_type": "code",
   "execution_count": null,
   "metadata": {},
   "outputs": [],
   "source": []
  },
  {
   "cell_type": "code",
   "execution_count": null,
   "metadata": {},
   "outputs": [],
   "source": []
  },
  {
   "cell_type": "code",
   "execution_count": null,
   "metadata": {},
   "outputs": [],
   "source": []
  },
  {
   "cell_type": "code",
   "execution_count": null,
   "metadata": {},
   "outputs": [],
   "source": []
  }
 ],
 "metadata": {
  "kernelspec": {
   "display_name": "Python 3",
   "language": "python",
   "name": "python3"
  },
  "language_info": {
   "codemirror_mode": {
    "name": "ipython",
    "version": 3
   },
   "file_extension": ".py",
   "mimetype": "text/x-python",
   "name": "python",
   "nbconvert_exporter": "python",
   "pygments_lexer": "ipython3",
   "version": "3.6.9"
  }
 },
 "nbformat": 4,
 "nbformat_minor": 2
}
